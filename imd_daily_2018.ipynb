{
 "cells": [
  {
   "cell_type": "code",
   "execution_count": 1,
   "id": "7bd25564-6b74-41ca-9778-bf26f6c7a4fc",
   "metadata": {
    "tags": []
   },
   "outputs": [],
   "source": [
    "import dask\n",
    "import dask.array as da\n",
    "import xarray as xr\n",
    "import rioxarray as rx\n",
    "import rasterio\n",
    "from shapely.geometry import shape\n",
    "import geopandas as gpd\n",
    "import pandas as pd\n",
    "import cftime\n",
    "import matplotlib.pyplot as plt\n",
    "from xrspatial.zonal import stats as zonal_stats\n",
    "from xrspatial.zonal import crosstab as zonal_crosstab\n",
    "from geocube.api.core import make_geocube\n",
    "import rasterio\n",
    "from rasterio.plot import show\n",
    "import numpy as np"
   ]
  },
  {
   "cell_type": "code",
   "execution_count": 2,
   "id": "4e3262ab-228a-4d5e-be52-a53f79d70782",
   "metadata": {
    "tags": []
   },
   "outputs": [],
   "source": [
    "ind2018_nc = './netcdf_files/RF25_ind2018_rfp25.nc'\n",
    "geojson_path = 'kerala_boundary.geojson'\n",
    "kerala_districts = 'district.geojson'\n",
    "# Define the WGS84 CRS\n",
    "wgs84_crs = \"+proj=longlat +datum=WGS84 +no_defs\""
   ]
  },
  {
   "cell_type": "code",
   "execution_count": 42,
   "id": "05abe21b-6aac-453c-84c8-aa928d226916",
   "metadata": {
    "tags": []
   },
   "outputs": [],
   "source": [
    "# Open the NetCDF file using rioxarray\n",
    "imd_daily_2018 = rx.open_rasterio(ind2018_nc, masked=True)"
   ]
  },
  {
   "cell_type": "code",
   "execution_count": 44,
   "id": "1a7c36c4-2906-4277-8064-1aab57bfe324",
   "metadata": {
    "tags": []
   },
   "outputs": [
    {
     "data": {
      "text/plain": [
       "CRS.from_wkt('GEOGCS[\"unknown\",DATUM[\"WGS_1984\",SPHEROID[\"WGS 84\",6378137,298.257223563,AUTHORITY[\"EPSG\",\"7030\"]],AUTHORITY[\"EPSG\",\"6326\"]],PRIMEM[\"Greenwich\",0,AUTHORITY[\"EPSG\",\"8901\"]],UNIT[\"degree\",0.0174532925199433,AUTHORITY[\"EPSG\",\"9122\"]],AXIS[\"Longitude\",EAST],AXIS[\"Latitude\",NORTH]]')"
      ]
     },
     "execution_count": 44,
     "metadata": {},
     "output_type": "execute_result"
    }
   ],
   "source": [
    "imd_daily_2018.rio.write_crs(wgs84_crs,inplace=True)\n",
    "imd_daily_2018.rio.crs"
   ]
  },
  {
   "cell_type": "code",
   "execution_count": 3,
   "id": "090bed83-2543-43e6-914b-2ada499ab7dd",
   "metadata": {
    "tags": []
   },
   "outputs": [],
   "source": [
    "gdf = gpd.read_file(geojson_path)\n",
    "district_gdf = gpd.read_file(kerala_districts)\n",
    "geometry = shape(gdf.geometry.iloc[0])"
   ]
  },
  {
   "cell_type": "code",
   "execution_count": null,
   "id": "19b58e56-291e-4abf-bfba-4fbf311f7c90",
   "metadata": {},
   "outputs": [],
   "source": [
    "# Clip the rioxarray dataset using the mask\n",
    "clipped_imd_daily = imd_ds.rio.clip([geometry], drop =True)\n",
    "# If you want to save the result to a new file\n",
    "clipped_imd_daily.to_netcdf('kerala_imd_daily_2018.nc')"
   ]
  },
  {
   "cell_type": "code",
   "execution_count": 4,
   "id": "ba2ceb6d-735d-4d54-ad2d-00bad6eadf00",
   "metadata": {
    "tags": []
   },
   "outputs": [],
   "source": [
    "imd_kerala_2018 = './netcdf_files/kerala_imd_daily_2018.nc'\n",
    "# Open the NetCDF file using rioxarray\n",
    "kerala_imd_ds = rx.open_rasterio(imd_kerala_2018, masked=True,chunks={'TIME': 'auto'})\n",
    "datetimeindex = kerala_imd_ds.indexes['TIME'].to_datetimeindex()\n",
    "kerala_imd_ds['TIME'] = datetimeindex"
   ]
  },
  {
   "cell_type": "code",
   "execution_count": 5,
   "id": "66619d5d-d94b-4779-91a0-b0ed2e8c0c0a",
   "metadata": {
    "tags": []
   },
   "outputs": [],
   "source": [
    "kerala_imd_monthly_2018 = kerala_imd_ds.groupby('TIME.month').sum(dim='TIME')"
   ]
  },
  {
   "cell_type": "code",
   "execution_count": 6,
   "id": "74900a6c-2af7-4bbf-9e6a-966cbd14a31d",
   "metadata": {
    "tags": []
   },
   "outputs": [],
   "source": [
    "# Replace all 0 values with NaN\n",
    "kerala_imd_monthly_2018 = kerala_imd_monthly_2018.where(kerala_imd_monthly_2018 != 0)"
   ]
  },
  {
   "cell_type": "code",
   "execution_count": 7,
   "id": "94f37c89-cb07-4200-aaa1-ccc8f70b18fd",
   "metadata": {
    "tags": []
   },
   "outputs": [],
   "source": [
    "kerala_imd_monthly_2018_flatten = kerala_imd_monthly_2018.mean(dim=['x', 'y'], skipna=True)"
   ]
  },
  {
   "cell_type": "code",
   "execution_count": 8,
   "id": "b93e4ae4-621d-4d2e-ba4b-af9374a6d60e",
   "metadata": {
    "tags": []
   },
   "outputs": [],
   "source": [
    "kerala_imd_monthly_pd = kerala_imd_monthly_2018_flatten.to_dataframe()"
   ]
  },
  {
   "cell_type": "code",
   "execution_count": 9,
   "id": "2be0ac46-b28a-4f1e-8c55-1c881f9e077f",
   "metadata": {
    "tags": []
   },
   "outputs": [
    {
     "data": {
      "text/html": [
       "<div>\n",
       "<style scoped>\n",
       "    .dataframe tbody tr th:only-of-type {\n",
       "        vertical-align: middle;\n",
       "    }\n",
       "\n",
       "    .dataframe tbody tr th {\n",
       "        vertical-align: top;\n",
       "    }\n",
       "\n",
       "    .dataframe thead th {\n",
       "        text-align: right;\n",
       "    }\n",
       "</style>\n",
       "<table border=\"1\" class=\"dataframe\">\n",
       "  <thead>\n",
       "    <tr style=\"text-align: right;\">\n",
       "      <th></th>\n",
       "      <th>spatial_ref</th>\n",
       "      <th>RAINFALL</th>\n",
       "    </tr>\n",
       "    <tr>\n",
       "      <th>month</th>\n",
       "      <th></th>\n",
       "      <th></th>\n",
       "    </tr>\n",
       "  </thead>\n",
       "  <tbody>\n",
       "    <tr>\n",
       "      <th>1</th>\n",
       "      <td>0</td>\n",
       "      <td>3.719451</td>\n",
       "    </tr>\n",
       "    <tr>\n",
       "      <th>2</th>\n",
       "      <td>0</td>\n",
       "      <td>19.981022</td>\n",
       "    </tr>\n",
       "    <tr>\n",
       "      <th>3</th>\n",
       "      <td>0</td>\n",
       "      <td>54.960645</td>\n",
       "    </tr>\n",
       "    <tr>\n",
       "      <th>4</th>\n",
       "      <td>0</td>\n",
       "      <td>114.122547</td>\n",
       "    </tr>\n",
       "    <tr>\n",
       "      <th>5</th>\n",
       "      <td>0</td>\n",
       "      <td>310.928115</td>\n",
       "    </tr>\n",
       "    <tr>\n",
       "      <th>6</th>\n",
       "      <td>0</td>\n",
       "      <td>658.691949</td>\n",
       "    </tr>\n",
       "    <tr>\n",
       "      <th>7</th>\n",
       "      <td>0</td>\n",
       "      <td>791.839522</td>\n",
       "    </tr>\n",
       "    <tr>\n",
       "      <th>8</th>\n",
       "      <td>0</td>\n",
       "      <td>810.825826</td>\n",
       "    </tr>\n",
       "    <tr>\n",
       "      <th>9</th>\n",
       "      <td>0</td>\n",
       "      <td>110.913762</td>\n",
       "    </tr>\n",
       "    <tr>\n",
       "      <th>10</th>\n",
       "      <td>0</td>\n",
       "      <td>284.184480</td>\n",
       "    </tr>\n",
       "    <tr>\n",
       "      <th>11</th>\n",
       "      <td>0</td>\n",
       "      <td>118.873857</td>\n",
       "    </tr>\n",
       "    <tr>\n",
       "      <th>12</th>\n",
       "      <td>0</td>\n",
       "      <td>23.256486</td>\n",
       "    </tr>\n",
       "  </tbody>\n",
       "</table>\n",
       "</div>"
      ],
      "text/plain": [
       "       spatial_ref    RAINFALL\n",
       "month                         \n",
       "1                0    3.719451\n",
       "2                0   19.981022\n",
       "3                0   54.960645\n",
       "4                0  114.122547\n",
       "5                0  310.928115\n",
       "6                0  658.691949\n",
       "7                0  791.839522\n",
       "8                0  810.825826\n",
       "9                0  110.913762\n",
       "10               0  284.184480\n",
       "11               0  118.873857\n",
       "12               0   23.256486"
      ]
     },
     "execution_count": 9,
     "metadata": {},
     "output_type": "execute_result"
    }
   ],
   "source": [
    "kerala_imd_monthly_pd"
   ]
  },
  {
   "cell_type": "code",
   "execution_count": 10,
   "id": "dddabef8-fb1c-4a18-b1bd-6acbe03e158e",
   "metadata": {
    "tags": []
   },
   "outputs": [],
   "source": [
    "x_values = kerala_imd_monthly_pd.index\n",
    "#x_values = date2num(x_values)\n",
    "y1_values =  kerala_imd_monthly_pd['RAINFALL']\n",
    "#y2_values = kerala_monthly_mean_pd['RAINFALL']\n",
    "bar_width = 5.0"
   ]
  },
  {
   "cell_type": "code",
   "execution_count": 12,
   "id": "566862f9-311e-4b6d-98a4-d608ee29d1d7",
   "metadata": {
    "tags": []
   },
   "outputs": [],
   "source": [
    "file_path = 'kerala_precip.csv'\n",
    "# Read the CSV file into a pandas DataFrame\n",
    "df = pd.read_csv(file_path)\n"
   ]
  },
  {
   "cell_type": "code",
   "execution_count": 35,
   "id": "afff51cf-0223-470a-948a-acb78d0a3495",
   "metadata": {
    "tags": []
   },
   "outputs": [],
   "source": [
    "y2_values = df[:1].values.tolist()[0][2:][:-1]"
   ]
  },
  {
   "cell_type": "code",
   "execution_count": 41,
   "id": "92da54a0-4c26-432c-b8e4-f9eee46a989b",
   "metadata": {
    "tags": []
   },
   "outputs": [
    {
     "data": {
      "image/png": "[encoded data removed]",
      "text/plain": [
       "<Figure size 640x480 with 1 Axes>"
      ]
     },
     "metadata": {},
     "output_type": "display_data"
    }
   ],
   "source": [
    "plt.bar(x_values, y1_values, width = 0.4, label = '2018 Monthly')\n",
    "plt.bar(x_values, y2_values, width = 0.2, label = '1971-2020 Monthly Mean')\n",
    "months = ['January', 'February', 'March', 'April', 'May', 'June', 'July',  'August', 'September', 'October', 'November', 'December'] \n",
    "\n",
    "# Add labels and legend\n",
    "plt.xlabel('Month')\n",
    "\n",
    "plt.xticks(x_values, months, rotation=90)\n",
    "# Set the y-axis to start from 0\n",
    "plt.ylim(0, max(y1_values) + 20)\n",
    "\n",
    "plt.ylabel('Precipitation in mm')\n",
    "plt.title('Kerala 2018 Monthly IMD ')\n",
    "plt.legend()\n",
    "\n",
    "# Show the plot\n",
    "plt.show()"
   ]
  },
  {
   "cell_type": "code",
   "execution_count": 54,
   "id": "4745755b-70e0-4eb0-bc65-54ae76459981",
   "metadata": {
    "tags": []
   },
   "outputs": [
    {
     "data": {
      "text/html": [
       "<div><svg style=\"position: absolute; width: 0; height: 0; overflow: hidden\">\n",
       "<defs>\n",
       "<symbol id=\"icon-database\" viewBox=\"0 0 32 32\">\n",
       "<path d=\"M16 0c-8.837 0-16 2.239-16 5v4c0 2.761 7.163 5 16 5s16-2.239 16-5v-4c0-2.761-7.163-5-16-5z\"></path>\n",
       "<path d=\"M16 17c-8.837 0-16-2.239-16-5v6c0 2.761 7.163 5 16 5s16-2.239 16-5v-6c0 2.761-7.163 5-16 5z\"></path>\n",
       "<path d=\"M16 26c-8.837 0-16-2.239-16-5v6c0 2.761 7.163 5 16 5s16-2.239 16-5v-6c0 2.761-7.163 5-16 5z\"></path>\n",
       "</symbol>\n",
       "<symbol id=\"icon-file-text2\" viewBox=\"0 0 32 32\">\n",
       "<path d=\"M28.681 7.159c-0.694-0.947-1.662-2.053-2.724-3.116s-2.169-2.030-3.116-2.724c-1.612-1.182-2.393-1.319-2.841-1.319h-15.5c-1.378 0-2.5 1.121-2.5 2.5v27c0 1.378 1.122 2.5 2.5 2.5h23c1.378 0 2.5-1.122 2.5-2.5v-19.5c0-0.448-0.137-1.23-1.319-2.841zM24.543 5.457c0.959 0.959 1.712 1.825 2.268 2.543h-4.811v-4.811c0.718 0.556 1.584 1.309 2.543 2.268zM28 29.5c0 0.271-0.229 0.5-0.5 0.5h-23c-0.271 0-0.5-0.229-0.5-0.5v-27c0-0.271 0.229-0.5 0.5-0.5 0 0 15.499-0 15.5 0v7c0 0.552 0.448 1 1 1h7v19.5z\"></path>\n",
       "<path d=\"M23 26h-14c-0.552 0-1-0.448-1-1s0.448-1 1-1h14c0.552 0 1 0.448 1 1s-0.448 1-1 1z\"></path>\n",
       "<path d=\"M23 22h-14c-0.552 0-1-0.448-1-1s0.448-1 1-1h14c0.552 0 1 0.448 1 1s-0.448 1-1 1z\"></path>\n",
       "<path d=\"M23 18h-14c-0.552 0-1-0.448-1-1s0.448-1 1-1h14c0.552 0 1 0.448 1 1s-0.448 1-1 1z\"></path>\n",
       "</symbol>\n",
       "</defs>\n",
       "</svg>\n",
       "<style>/* CSS stylesheet for displaying xarray objects in jupyterlab.\n",
       " *\n",
       " */\n",
       "\n",
       ":root {\n",
       "  --xr-font-color0: var(--jp-content-font-color0, rgba(0, 0, 0, 1));\n",
       "  --xr-font-color2: var(--jp-content-font-color2, rgba(0, 0, 0, 0.54));\n",
       "  --xr-font-color3: var(--jp-content-font-color3, rgba(0, 0, 0, 0.38));\n",
       "  --xr-border-color: var(--jp-border-color2, #e0e0e0);\n",
       "  --xr-disabled-color: var(--jp-layout-color3, #bdbdbd);\n",
       "  --xr-background-color: var(--jp-layout-color0, white);\n",
       "  --xr-background-color-row-even: var(--jp-layout-color1, white);\n",
       "  --xr-background-color-row-odd: var(--jp-layout-color2, #eeeeee);\n",
       "}\n",
       "\n",
       "html[theme=dark],\n",
       "body[data-theme=dark],\n",
       "body.vscode-dark {\n",
       "  --xr-font-color0: rgba(255, 255, 255, 1);\n",
       "  --xr-font-color2: rgba(255, 255, 255, 0.54);\n",
       "  --xr-font-color3: rgba(255, 255, 255, 0.38);\n",
       "  --xr-border-color: #1F1F1F;\n",
       "  --xr-disabled-color: #515151;\n",
       "  --xr-background-color: #111111;\n",
       "  --xr-background-color-row-even: #111111;\n",
       "  --xr-background-color-row-odd: #313131;\n",
       "}\n",
       "\n",
       ".xr-wrap {\n",
       "  display: block !important;\n",
       "  min-width: 300px;\n",
       "  max-width: 700px;\n",
       "}\n",
       "\n",
       ".xr-text-repr-fallback {\n",
       "  /* fallback to plain text repr when CSS is not injected (untrusted notebook) */\n",
       "  display: none;\n",
       "}\n",
       "\n",
       ".xr-header {\n",
       "  padding-top: 6px;\n",
       "  padding-bottom: 6px;\n",
       "  margin-bottom: 4px;\n",
       "  border-bottom: solid 1px var(--xr-border-color);\n",
       "}\n",
       "\n",
       ".xr-header > div,\n",
       ".xr-header > ul {\n",
       "  display: inline;\n",
       "  margin-top: 0;\n",
       "  margin-bottom: 0;\n",
       "}\n",
       "\n",
       ".xr-obj-type,\n",
       ".xr-array-name {\n",
       "  margin-left: 2px;\n",
       "  margin-right: 10px;\n",
       "}\n",
       "\n",
       ".xr-obj-type {\n",
       "  color: var(--xr-font-color2);\n",
       "}\n",
       "\n",
       ".xr-sections {\n",
       "  padding-left: 0 !important;\n",
       "  display: grid;\n",
       "  grid-template-columns: 150px auto auto 1fr 20px 20px;\n",
       "}\n",
       "\n",
       ".xr-section-item {\n",
       "  display: contents;\n",
       "}\n",
       "\n",
       ".xr-section-item input {\n",
       "  display: none;\n",
       "}\n",
       "\n",
       ".xr-section-item input + label {\n",
       "  color: var(--xr-disabled-color);\n",
       "}\n",
       "\n",
       ".xr-section-item input:enabled + label {\n",
       "  cursor: pointer;\n",
       "  color: var(--xr-font-color2);\n",
       "}\n",
       "\n",
       ".xr-section-item input:enabled + label:hover {\n",
       "  color: var(--xr-font-color0);\n",
       "}\n",
       "\n",
       ".xr-section-summary {\n",
       "  grid-column: 1;\n",
       "  color: var(--xr-font-color2);\n",
       "  font-weight: 500;\n",
       "}\n",
       "\n",
       ".xr-section-summary > span {\n",
       "  display: inline-block;\n",
       "  padding-left: 0.5em;\n",
       "}\n",
       "\n",
       ".xr-section-summary-in:disabled + label {\n",
       "  color: var(--xr-font-color2);\n",
       "}\n",
       "\n",
       ".xr-section-summary-in + label:before {\n",
       "  display: inline-block;\n",
       "  content: '►';\n",
       "  font-size: 11px;\n",
       "  width: 15px;\n",
       "  text-align: center;\n",
       "}\n",
       "\n",
       ".xr-section-summary-in:disabled + label:before {\n",
       "  color: var(--xr-disabled-color);\n",
       "}\n",
       "\n",
       ".xr-section-summary-in:checked + label:before {\n",
       "  content: '▼';\n",
       "}\n",
       "\n",
       ".xr-section-summary-in:checked + label > span {\n",
       "  display: none;\n",
       "}\n",
       "\n",
       ".xr-section-summary,\n",
       ".xr-section-inline-details {\n",
       "  padding-top: 4px;\n",
       "  padding-bottom: 4px;\n",
       "}\n",
       "\n",
       ".xr-section-inline-details {\n",
       "  grid-column: 2 / -1;\n",
       "}\n",
       "\n",
       ".xr-section-details {\n",
       "  display: none;\n",
       "  grid-column: 1 / -1;\n",
       "  margin-bottom: 5px;\n",
       "}\n",
       "\n",
       ".xr-section-summary-in:checked ~ .xr-section-details {\n",
       "  display: contents;\n",
       "}\n",
       "\n",
       ".xr-array-wrap {\n",
       "  grid-column: 1 / -1;\n",
       "  display: grid;\n",
       "  grid-template-columns: 20px auto;\n",
       "}\n",
       "\n",
       ".xr-array-wrap > label {\n",
       "  grid-column: 1;\n",
       "  vertical-align: top;\n",
       "}\n",
       "\n",
       ".xr-preview {\n",
       "  color: var(--xr-font-color3);\n",
       "}\n",
       "\n",
       ".xr-array-preview,\n",
       ".xr-array-data {\n",
       "  padding: 0 5px !important;\n",
       "  grid-column: 2;\n",
       "}\n",
       "\n",
       ".xr-array-data,\n",
       ".xr-array-in:checked ~ .xr-array-preview {\n",
       "  display: none;\n",
       "}\n",
       "\n",
       ".xr-array-in:checked ~ .xr-array-data,\n",
       ".xr-array-preview {\n",
       "  display: inline-block;\n",
       "}\n",
       "\n",
       ".xr-dim-list {\n",
       "  display: inline-block !important;\n",
       "  list-style: none;\n",
       "  padding: 0 !important;\n",
       "  margin: 0;\n",
       "}\n",
       "\n",
       ".xr-dim-list li {\n",
       "  display: inline-block;\n",
       "  padding: 0;\n",
       "  margin: 0;\n",
       "}\n",
       "\n",
       ".xr-dim-list:before {\n",
       "  content: '(';\n",
       "}\n",
       "\n",
       ".xr-dim-list:after {\n",
       "  content: ')';\n",
       "}\n",
       "\n",
       ".xr-dim-list li:not(:last-child):after {\n",
       "  content: ',';\n",
       "  padding-right: 5px;\n",
       "}\n",
       "\n",
       ".xr-has-index {\n",
       "  font-weight: bold;\n",
       "}\n",
       "\n",
       ".xr-var-list,\n",
       ".xr-var-item {\n",
       "  display: contents;\n",
       "}\n",
       "\n",
       ".xr-var-item > div,\n",
       ".xr-var-item label,\n",
       ".xr-var-item > .xr-var-name span {\n",
       "  background-color: var(--xr-background-color-row-even);\n",
       "  margin-bottom: 0;\n",
       "}\n",
       "\n",
       ".xr-var-item > .xr-var-name:hover span {\n",
       "  padding-right: 5px;\n",
       "}\n",
       "\n",
       ".xr-var-list > li:nth-child(odd) > div,\n",
       ".xr-var-list > li:nth-child(odd) > label,\n",
       ".xr-var-list > li:nth-child(odd) > .xr-var-name span {\n",
       "  background-color: var(--xr-background-color-row-odd);\n",
       "}\n",
       "\n",
       ".xr-var-name {\n",
       "  grid-column: 1;\n",
       "}\n",
       "\n",
       ".xr-var-dims {\n",
       "  grid-column: 2;\n",
       "}\n",
       "\n",
       ".xr-var-dtype {\n",
       "  grid-column: 3;\n",
       "  text-align: right;\n",
       "  color: var(--xr-font-color2);\n",
       "}\n",
       "\n",
       ".xr-var-preview {\n",
       "  grid-column: 4;\n",
       "}\n",
       "\n",
       ".xr-index-preview {\n",
       "  grid-column: 2 / 5;\n",
       "  color: var(--xr-font-color2);\n",
       "}\n",
       "\n",
       ".xr-var-name,\n",
       ".xr-var-dims,\n",
       ".xr-var-dtype,\n",
       ".xr-preview,\n",
       ".xr-attrs dt {\n",
       "  white-space: nowrap;\n",
       "  overflow: hidden;\n",
       "  text-overflow: ellipsis;\n",
       "  padding-right: 10px;\n",
       "}\n",
       "\n",
       ".xr-var-name:hover,\n",
       ".xr-var-dims:hover,\n",
       ".xr-var-dtype:hover,\n",
       ".xr-attrs dt:hover {\n",
       "  overflow: visible;\n",
       "  width: auto;\n",
       "  z-index: 1;\n",
       "}\n",
       "\n",
       ".xr-var-attrs,\n",
       ".xr-var-data,\n",
       ".xr-index-data {\n",
       "  display: none;\n",
       "  background-color: var(--xr-background-color) !important;\n",
       "  padding-bottom: 5px !important;\n",
       "}\n",
       "\n",
       ".xr-var-attrs-in:checked ~ .xr-var-attrs,\n",
       ".xr-var-data-in:checked ~ .xr-var-data,\n",
       ".xr-index-data-in:checked ~ .xr-index-data {\n",
       "  display: block;\n",
       "}\n",
       "\n",
       ".xr-var-data > table {\n",
       "  float: right;\n",
       "}\n",
       "\n",
       ".xr-var-name span,\n",
       ".xr-var-data,\n",
       ".xr-index-name div,\n",
       ".xr-index-data,\n",
       ".xr-attrs {\n",
       "  padding-left: 25px !important;\n",
       "}\n",
       "\n",
       ".xr-attrs,\n",
       ".xr-var-attrs,\n",
       ".xr-var-data,\n",
       ".xr-index-data {\n",
       "  grid-column: 1 / -1;\n",
       "}\n",
       "\n",
       "dl.xr-attrs {\n",
       "  padding: 0;\n",
       "  margin: 0;\n",
       "  display: grid;\n",
       "  grid-template-columns: 125px auto;\n",
       "}\n",
       "\n",
       ".xr-attrs dt,\n",
       ".xr-attrs dd {\n",
       "  padding: 0;\n",
       "  margin: 0;\n",
       "  float: left;\n",
       "  padding-right: 10px;\n",
       "  width: auto;\n",
       "}\n",
       "\n",
       ".xr-attrs dt {\n",
       "  font-weight: normal;\n",
       "  grid-column: 1;\n",
       "}\n",
       "\n",
       ".xr-attrs dt:hover span {\n",
       "  display: inline-block;\n",
       "  background: var(--xr-background-color);\n",
       "  padding-right: 10px;\n",
       "}\n",
       "\n",
       ".xr-attrs dd {\n",
       "  grid-column: 2;\n",
       "  white-space: pre-wrap;\n",
       "  word-break: break-all;\n",
       "}\n",
       "\n",
       ".xr-icon-database,\n",
       ".xr-icon-file-text2,\n",
       ".xr-no-icon {\n",
       "  display: inline-block;\n",
       "  vertical-align: middle;\n",
       "  width: 1em;\n",
       "  height: 1.5em !important;\n",
       "  stroke-width: 0;\n",
       "  stroke: currentColor;\n",
       "  fill: currentColor;\n",
       "}\n",
       "</style><pre class='xr-text-repr-fallback'>&lt;xarray.DataArray &#x27;RAINFALL&#x27; (month: 12)&gt;\n",
       "dask.array&lt;mean_agg-aggregate, shape=(12,), dtype=float64, chunksize=(12,), chunktype=numpy.ndarray&gt;\n",
       "Coordinates:\n",
       "    spatial_ref  int64 0\n",
       "  * month        (month) int64 1 2 3 4 5 6 7 8 9 10 11 12</pre><div class='xr-wrap' style='display:none'><div class='xr-header'><div class='xr-obj-type'>xarray.DataArray</div><div class='xr-array-name'>'RAINFALL'</div><ul class='xr-dim-list'><li><span class='xr-has-index'>month</span>: 12</li></ul></div><ul class='xr-sections'><li class='xr-section-item'><div class='xr-array-wrap'><input id='section-a2029a8c-eafa-490d-8b2f-b3c0d2297bcc' class='xr-array-in' type='checkbox' checked><label for='section-a2029a8c-eafa-490d-8b2f-b3c0d2297bcc' title='Show/hide data repr'><svg class='icon xr-icon-database'><use xlink:href='#icon-database'></use></svg></label><div class='xr-array-preview xr-preview'><span>dask.array&lt;chunksize=(12,), meta=np.ndarray&gt;</span></div><div class='xr-array-data'><table>\n",
       "    <tr>\n",
       "        <td>\n",
       "            <table style=\"border-collapse: collapse;\">\n",
       "                <thead>\n",
       "                    <tr>\n",
       "                        <td> </td>\n",
       "                        <th> Array </th>\n",
       "                        <th> Chunk </th>\n",
       "                    </tr>\n",
       "                </thead>\n",
       "                <tbody>\n",
       "                    \n",
       "                    <tr>\n",
       "                        <th> Bytes </th>\n",
       "                        <td> 96 B </td>\n",
       "                        <td> 96 B </td>\n",
       "                    </tr>\n",
       "                    \n",
       "                    <tr>\n",
       "                        <th> Shape </th>\n",
       "                        <td> (12,) </td>\n",
       "                        <td> (12,) </td>\n",
       "                    </tr>\n",
       "                    <tr>\n",
       "                        <th> Dask graph </th>\n",
       "                        <td colspan=\"2\"> 1 chunks in 12 graph layers </td>\n",
       "                    </tr>\n",
       "                    <tr>\n",
       "                        <th> Data type </th>\n",
       "                        <td colspan=\"2\"> float64 numpy.ndarray </td>\n",
       "                    </tr>\n",
       "                </tbody>\n",
       "            </table>\n",
       "        </td>\n",
       "        <td>\n",
       "        <svg width=\"170\" height=\"87\" style=\"stroke:rgb(0,0,0);stroke-width:1\" >\n",
       "\n",
       "  <!-- Horizontal lines -->\n",
       "  <line x1=\"0\" y1=\"0\" x2=\"120\" y2=\"0\" style=\"stroke-width:2\" />\n",
       "  <line x1=\"0\" y1=\"37\" x2=\"120\" y2=\"37\" style=\"stroke-width:2\" />\n",
       "\n",
       "  <!-- Vertical lines -->\n",
       "  <line x1=\"0\" y1=\"0\" x2=\"0\" y2=\"37\" style=\"stroke-width:2\" />\n",
       "  <line x1=\"120\" y1=\"0\" x2=\"120\" y2=\"37\" style=\"stroke-width:2\" />\n",
       "\n",
       "  <!-- Colored Rectangle -->\n",
       "  <polygon points=\"0.0,0.0 120.0,0.0 120.0,37.56358655585696 0.0,37.56358655585696\" style=\"fill:#ECB172A0;stroke-width:0\"/>\n",
       "\n",
       "  <!-- Text -->\n",
       "  <text x=\"60.000000\" y=\"57.563587\" font-size=\"1.0rem\" font-weight=\"100\" text-anchor=\"middle\" >12</text>\n",
       "  <text x=\"140.000000\" y=\"18.781793\" font-size=\"1.0rem\" font-weight=\"100\" text-anchor=\"middle\" transform=\"rotate(0,140.000000,18.781793)\">1</text>\n",
       "</svg>\n",
       "        </td>\n",
       "    </tr>\n",
       "</table></div></div></li><li class='xr-section-item'><input id='section-209c8563-748b-4f15-83ea-5bffbbbdc88f' class='xr-section-summary-in' type='checkbox'  checked><label for='section-209c8563-748b-4f15-83ea-5bffbbbdc88f' class='xr-section-summary' >Coordinates: <span>(2)</span></label><div class='xr-section-inline-details'></div><div class='xr-section-details'><ul class='xr-var-list'><li class='xr-var-item'><div class='xr-var-name'><span>spatial_ref</span></div><div class='xr-var-dims'>()</div><div class='xr-var-dtype'>int64</div><div class='xr-var-preview xr-preview'>0</div><input id='attrs-ab930069-ad1a-4d24-958c-b74637e9da8e' class='xr-var-attrs-in' type='checkbox' ><label for='attrs-ab930069-ad1a-4d24-958c-b74637e9da8e' title='Show/Hide attributes'><svg class='icon xr-icon-file-text2'><use xlink:href='#icon-file-text2'></use></svg></label><input id='data-7bc135a3-bba0-40a2-9aaf-1cd90325d819' class='xr-var-data-in' type='checkbox'><label for='data-7bc135a3-bba0-40a2-9aaf-1cd90325d819' title='Show/Hide data repr'><svg class='icon xr-icon-database'><use xlink:href='#icon-database'></use></svg></label><div class='xr-var-attrs'><dl class='xr-attrs'><dt><span>crs_wkt :</span></dt><dd>GEOGCS[&quot;unknown&quot;,DATUM[&quot;WGS_1984&quot;,SPHEROID[&quot;WGS 84&quot;,6378137,298.257223563,AUTHORITY[&quot;EPSG&quot;,&quot;7030&quot;]],AUTHORITY[&quot;EPSG&quot;,&quot;6326&quot;]],PRIMEM[&quot;Greenwich&quot;,0,AUTHORITY[&quot;EPSG&quot;,&quot;8901&quot;]],UNIT[&quot;degree&quot;,0.0174532925199433,AUTHORITY[&quot;EPSG&quot;,&quot;9122&quot;]],AXIS[&quot;Longitude&quot;,EAST],AXIS[&quot;Latitude&quot;,NORTH]]</dd><dt><span>semi_major_axis :</span></dt><dd>6378137.0</dd><dt><span>semi_minor_axis :</span></dt><dd>6356752.314245179</dd><dt><span>inverse_flattening :</span></dt><dd>298.257223563</dd><dt><span>reference_ellipsoid_name :</span></dt><dd>WGS 84</dd><dt><span>longitude_of_prime_meridian :</span></dt><dd>0.0</dd><dt><span>prime_meridian_name :</span></dt><dd>Greenwich</dd><dt><span>geographic_crs_name :</span></dt><dd>unknown</dd><dt><span>horizontal_datum_name :</span></dt><dd>World Geodetic System 1984</dd><dt><span>grid_mapping_name :</span></dt><dd>latitude_longitude</dd><dt><span>spatial_ref :</span></dt><dd>GEOGCS[&quot;unknown&quot;,DATUM[&quot;WGS_1984&quot;,SPHEROID[&quot;WGS 84&quot;,6378137,298.257223563,AUTHORITY[&quot;EPSG&quot;,&quot;7030&quot;]],AUTHORITY[&quot;EPSG&quot;,&quot;6326&quot;]],PRIMEM[&quot;Greenwich&quot;,0,AUTHORITY[&quot;EPSG&quot;,&quot;8901&quot;]],UNIT[&quot;degree&quot;,0.0174532925199433,AUTHORITY[&quot;EPSG&quot;,&quot;9122&quot;]],AXIS[&quot;Longitude&quot;,EAST],AXIS[&quot;Latitude&quot;,NORTH]]</dd><dt><span>GeoTransform :</span></dt><dd>74.875 0.25 0.0 12.625 0.0 -0.25</dd></dl></div><div class='xr-var-data'><pre>array(0)</pre></div></li><li class='xr-var-item'><div class='xr-var-name'><span class='xr-has-index'>month</span></div><div class='xr-var-dims'>(month)</div><div class='xr-var-dtype'>int64</div><div class='xr-var-preview xr-preview'>1 2 3 4 5 6 7 8 9 10 11 12</div><input id='attrs-e178fe1e-d72f-41a6-9c9d-9c360720c6b5' class='xr-var-attrs-in' type='checkbox' disabled><label for='attrs-e178fe1e-d72f-41a6-9c9d-9c360720c6b5' title='Show/Hide attributes'><svg class='icon xr-icon-file-text2'><use xlink:href='#icon-file-text2'></use></svg></label><input id='data-efeaaec0-ebb2-4dfa-a565-834a7c026df7' class='xr-var-data-in' type='checkbox'><label for='data-efeaaec0-ebb2-4dfa-a565-834a7c026df7' title='Show/Hide data repr'><svg class='icon xr-icon-database'><use xlink:href='#icon-database'></use></svg></label><div class='xr-var-attrs'><dl class='xr-attrs'></dl></div><div class='xr-var-data'><pre>array([ 1,  2,  3,  4,  5,  6,  7,  8,  9, 10, 11, 12])</pre></div></li></ul></div></li><li class='xr-section-item'><input id='section-5c05c988-d1d3-4dde-bf7b-29ef30c06ba0' class='xr-section-summary-in' type='checkbox'  ><label for='section-5c05c988-d1d3-4dde-bf7b-29ef30c06ba0' class='xr-section-summary' >Indexes: <span>(1)</span></label><div class='xr-section-inline-details'></div><div class='xr-section-details'><ul class='xr-var-list'><li class='xr-var-item'><div class='xr-index-name'><div>month</div></div><div class='xr-index-preview'>PandasIndex</div><div></div><input id='index-d0bb2f58-6102-44df-a075-ca86e7e680df' class='xr-index-data-in' type='checkbox'/><label for='index-d0bb2f58-6102-44df-a075-ca86e7e680df' title='Show/Hide index repr'><svg class='icon xr-icon-database'><use xlink:href='#icon-database'></use></svg></label><div class='xr-index-data'><pre>PandasIndex(Index([1, 2, 3, 4, 5, 6, 7, 8, 9, 10, 11, 12], dtype=&#x27;int64&#x27;, name=&#x27;month&#x27;))</pre></div></li></ul></div></li><li class='xr-section-item'><input id='section-3c47b622-7fe7-4033-8d39-e07499547223' class='xr-section-summary-in' type='checkbox' disabled ><label for='section-3c47b622-7fe7-4033-8d39-e07499547223' class='xr-section-summary'  title='Expand/collapse section'>Attributes: <span>(0)</span></label><div class='xr-section-inline-details'></div><div class='xr-section-details'><dl class='xr-attrs'></dl></div></li></ul></div></div>"
      ],
      "text/plain": [
       "<xarray.DataArray 'RAINFALL' (month: 12)>\n",
       "dask.array<mean_agg-aggregate, shape=(12,), dtype=float64, chunksize=(12,), chunktype=numpy.ndarray>\n",
       "Coordinates:\n",
       "    spatial_ref  int64 0\n",
       "  * month        (month) int64 1 2 3 4 5 6 7 8 9 10 11 12"
      ]
     },
     "execution_count": 54,
     "metadata": {},
     "output_type": "execute_result"
    }
   ],
   "source": [
    "kerala_imd_monthly_2018_flatten"
   ]
  },
  {
   "cell_type": "code",
   "execution_count": 17,
   "id": "8bc130f5-9aab-478a-b242-e609f3fb5619",
   "metadata": {
    "tags": []
   },
   "outputs": [],
   "source": [
    "# Filter the dataset to include only monsoon months 6, 7, 8, 9\n",
    "kerala_monsoon_imd = kerala_imd_ds.sel(TIME=kerala_imd_ds['TIME'].dt.month.isin([6, 7, 8]))"
   ]
  },
  {
   "cell_type": "code",
   "execution_count": 18,
   "id": "61eaf869-0a18-47c8-a869-d574a115fdff",
   "metadata": {
    "tags": []
   },
   "outputs": [],
   "source": [
    "kerala_monsoon_2018_daily = kerala_monsoon_imd.mean(dim=['x', 'y'], skipna=True)\n",
    "kerala_monsoon_2018_daily_max = kerala_monsoon_imd.max(dim=['x', 'y'], skipna=True)"
   ]
  },
  {
   "cell_type": "code",
   "execution_count": 20,
   "id": "91a8b77a-0055-4988-b114-713fad5dac76",
   "metadata": {
    "tags": []
   },
   "outputs": [],
   "source": [
    "kerala_monsoon_2018 = kerala_monsoon_imd.sum(dim=['TIME'], skipna=True)"
   ]
  },
  {
   "cell_type": "code",
   "execution_count": 21,
   "id": "c71fd9c1-8815-4699-a2dc-3738750e55d6",
   "metadata": {
    "tags": []
   },
   "outputs": [
    {
     "name": "stderr",
     "output_type": "stream",
     "text": [
      "/tmp/ipykernel_1816/179112651.py:6: UserWarning: Geometry is in a geographic CRS. Results from 'centroid' are likely incorrect. Use 'GeoSeries.to_crs()' to re-project geometries to a projected CRS before this operation.\n",
      "\n",
      "  for x, y, label in zip(district_gdf.geometry.centroid.x, district_gdf.geometry.centroid.y, district_gdf['DISTRICT']):\n"
     ]
    },
    {
     "data": {
      "text/plain": [
       "Text(0.5, 1.0, 'Kerala 2018 Monsoon Rainfall IMD')"
      ]
     },
     "execution_count": 21,
     "metadata": {},
     "output_type": "execute_result"
    },
    {
     "data": {
      "image/png": "[encoded data removed]",
      "text/plain": [
       "<Figure size 600x600 with 2 Axes>"
      ]
     },
     "metadata": {},
     "output_type": "display_data"
    }
   ],
   "source": [
    "# Plot the raster data\n",
    "fig, ax = plt.subplots(figsize=(6, 6))\n",
    "district_gdf.boundary.plot(ax =ax, color='black',linewidth=0.8 )\n",
    "kerala_monsoon_2018.plot(ax=ax, cmap='Blues', vmin=500, vmax=4000)\n",
    "# Add labels for each district\n",
    "for x, y, label in zip(district_gdf.geometry.centroid.x, district_gdf.geometry.centroid.y, district_gdf['DISTRICT']):\n",
    "    ax.text(x, y, label, fontsize=6,color= 'black', ha='center', va='center')\n",
    "ax.set_xlim([74.5, 78])  # Adjust the longitude range\n",
    "ax.set_ylim([8, 13])   # Adjust the latitude range\n",
    "plt.xlabel('Longitude')\n",
    "plt.ylabel('Latitude')\n",
    "plt.title('Kerala 2018 Monsoon Rainfall IMD')"
   ]
  },
  {
   "cell_type": "code",
   "execution_count": 22,
   "id": "f2d0d77e-bf4c-40e9-b043-11d713575ed6",
   "metadata": {
    "tags": []
   },
   "outputs": [],
   "source": [
    "kerala_monsoon_2018_daily_pd = kerala_monsoon_2018_daily.to_dataframe()\n",
    "kerala_monsoon_2018_daily_max_pd = kerala_monsoon_2018_daily_max.to_dataframe()"
   ]
  },
  {
   "cell_type": "code",
   "execution_count": 23,
   "id": "8ea0fa94-f640-4bea-91e2-f291ea7c66be",
   "metadata": {
    "tags": []
   },
   "outputs": [
    {
     "data": {
      "text/plain": [
       "301.1153869628906"
      ]
     },
     "execution_count": 23,
     "metadata": {},
     "output_type": "execute_result"
    }
   ],
   "source": [
    "np.max(kerala_monsoon_2018_daily_max_pd['RAINFALL'])"
   ]
  },
  {
   "cell_type": "code",
   "execution_count": 48,
   "id": "6eb663f6-2e34-431a-991c-c84df054ad27",
   "metadata": {
    "tags": []
   },
   "outputs": [
    {
     "data": {
      "image/png": "[encoded data removed]",
      "text/plain": [
       "<Figure size 640x480 with 1 Axes>"
      ]
     },
     "metadata": {},
     "output_type": "display_data"
    }
   ],
   "source": [
    "# Assume you want to use column 'x_column' as the x-axis and 'y_column' as the y-axis\n",
    "y_column = 'RAINFALL'\n",
    "x_column = 'TIME'\n",
    "\n",
    "#y1_values = kerala_monsoon_2018_daily_pd[y1_column]\n",
    "y2_values = kerala_monsoon_2018_daily_max_pd[y_column]\n",
    "\n",
    "x_values = kerala_monsoon_2018_daily_max_pd.index.date\n",
    "\n",
    "\n",
    "# Plot the data\n",
    "#plt.bar(x_values, y1_values)\n",
    "plt.bar(x_values, y2_values, label = 'Maximum Daily Precipitation')\n",
    "# Add horizontal lines at y-values 64.5 and 115.5\n",
    "plt.axhline(y=64.5, color='yellow', linestyle='--', label='Threshold for heavy rainfall')\n",
    "plt.axhline(y=115.5, color='orange', linestyle='--', label='Threshold for very heavy rainfall')\n",
    "plt.axhline(y=204.5, color='red', linestyle='--', label='Threshold for extremely heavy rainfall')\n",
    "\n",
    "\n",
    "# Add labels and legend\n",
    "plt.xlabel('Date')\n",
    "plt.xticks(x_values[::5], x_values[::5], rotation=90)\n",
    "# Set the y-axis to start from 0\n",
    "plt.ylim(0, max(y2_values))\n",
    "\n",
    "plt.ylabel('Precipitation in mm')\n",
    "plt.title('Kerala 2018 Monsoon Daily Maximum IMD')\n",
    "plt.legend(bbox_to_anchor=(0.72, 1), loc='upper right', fontsize='small')\n",
    "plt.show()\n"
   ]
  },
  {
   "cell_type": "code",
   "execution_count": 13,
   "id": "28277271-94cd-4a41-b0ec-eade6f8d123e",
   "metadata": {
    "tags": []
   },
   "outputs": [],
   "source": [
    "heavy_precip = (kerala_monsoon_2018_daily_max_pd['RAINFALL'] > 64.5).sum()\n",
    "very_heavy_precip = (kerala_monsoon_2018_daily_max_pd['RAINFALL'] > 115.5).sum()\n",
    "extremely_heavy_precip = (kerala_monsoon_2018_daily_max_pd['RAINFALL'] > 204.5).sum()"
   ]
  },
  {
   "cell_type": "code",
   "execution_count": 14,
   "id": "4f311a1c-6cef-4907-9d3b-a8bcd3726eda",
   "metadata": {
    "tags": []
   },
   "outputs": [
    {
     "data": {
      "text/plain": [
       "(48, 20, 4)"
      ]
     },
     "execution_count": 14,
     "metadata": {},
     "output_type": "execute_result"
    }
   ],
   "source": [
    "heavy_precip,very_heavy_precip,extremely_heavy_precip"
   ]
  }
 ],
 "metadata": {
  "kernelspec": {
   "display_name": "Python 3 (ipykernel)",
   "language": "python",
   "name": "python3"
  },
  "language_info": {
   "codemirror_mode": {
    "name": "ipython",
    "version": 3
   },
   "file_extension": ".py",
   "mimetype": "text/x-python",
   "name": "python",
   "nbconvert_exporter": "python",
   "pygments_lexer": "ipython3",
   "version": "3.11.4"
  }
 },
 "nbformat": 4,
 "nbformat_minor": 5
}
